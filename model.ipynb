{
 "cells": [
  {
   "cell_type": "markdown",
   "id": "cf87aa3f-f0a1-4500-87b8-c4c748951084",
   "metadata": {},
   "source": [
    "#Dataset details : Both hour.csv and day.csv have the following fields, except hr which is not available in day.csv\n",
    "\t\n",
    "\t- instant: record index\n",
    "\t- dteday : date\n",
    "\t- season : season (1:springer, 2:summer, 3:fall, 4:winter)\n",
    "\t- yr : year (0: 2011, 1:2012)\n",
    "\t- mnth : month ( 1 to 12)\n",
    "\t- hr : hour (0 to 23)\n",
    "\t- holiday : weather day is holiday or not (extracted from http://dchr.dc.gov/page/holiday-schedule)\n",
    "\t- weekday : day of the week\n",
    "\t- workingday : if day is neither weekend nor holiday is 1, otherwise is 0.\n",
    "\t+ weathersit : \n",
    "\t\t- 1: Clear, Few clouds, Partly cloudy, Partly cloudy\n",
    "\t\t- 2: Mist + Cloudy, Mist + Broken clouds, Mist + Few clouds, Mist\n",
    "\t\t- 3: Light Snow, Light Rain + Thunderstorm + Scattered clouds, Light Rain + Scattered clouds\n",
    "\t\t- 4: Heavy Rain + Ice Pallets + Thunderstorm + Mist, Snow + Fog\n",
    "\t- temp : Normalized temperature in Celsius. The values are divided to 41 (max)\n",
    "\t- atemp: Normalized feeling temperature in Celsius. The values are divided to 50 (max)\n",
    "\t- hum: Normalized humidity. The values are divided to 100 (max)\n",
    "\t- windspeed: Normalized wind speed. The values are divided to 67 (max)\n",
    "\t- casual: count of casual users\n",
    "\t- registered: count of registered users\n",
    "\t- cnt: count of total rental bikes including both casual and registered"
   ]
  },
  {
   "cell_type": "markdown",
   "id": "18883e44-fe9c-42d7-9bc1-ecb19fbd98b3",
   "metadata": {},
   "source": [
    "#Business usecase:\n",
    "-Prediction of hourly/daily rentals accroding to the seasons and other climate factors."
   ]
  },
  {
   "cell_type": "markdown",
   "id": "3e034191-26b0-41db-93d4-413d2e316c1a",
   "metadata": {},
   "source": [
    "## Dataset Exploration"
   ]
  },
  {
   "cell_type": "code",
   "execution_count": 106,
   "id": "f8cf744f-2a3b-403b-9396-b10c5d856b01",
   "metadata": {},
   "outputs": [],
   "source": [
    "import pandas as pd\n",
    "import numpy as np\n",
    "import matplotlib.pyplot as plt\n",
    "import seaborn as sns\n"
   ]
  },
  {
   "cell_type": "code",
   "execution_count": null,
   "id": "7caf5e61-cbfd-45d9-b0e6-e9d0237b49ff",
   "metadata": {},
   "outputs": [],
   "source": [
    "df = pd.read_csv(\"C://Users//saxen//OneDrive//Documents//GitHub//Deploy-BikeshareMLModel-GCP//data//hour.csv\")\n",
    "df.head()"
   ]
  },
  {
   "cell_type": "code",
   "execution_count": null,
   "id": "2af1d377-ad43-4da6-859c-c73a18fe9c80",
   "metadata": {},
   "outputs": [],
   "source": [
    "#Check the data \n",
    "df.info()\n"
   ]
  },
  {
   "cell_type": "code",
   "execution_count": null,
   "id": "0fb838de-0f50-48da-961a-a3b3e472326a",
   "metadata": {},
   "outputs": [],
   "source": [
    "df.describe()"
   ]
  },
  {
   "cell_type": "code",
   "execution_count": null,
   "id": "e1b378bb-509d-4b95-81a7-113e996081e6",
   "metadata": {},
   "outputs": [],
   "source": [
    "#check for the duplicates and missing value :\n",
    "duplicateRows = df[df.duplicated()]\n",
    "duplicateRows.sum()"
   ]
  },
  {
   "cell_type": "code",
   "execution_count": null,
   "id": "7e66bc6b-2dab-4a37-b01c-32ffeb3792c4",
   "metadata": {},
   "outputs": [],
   "source": [
    "df.isnull().sum()"
   ]
  },
  {
   "cell_type": "code",
   "execution_count": null,
   "id": "4cff5d6e-cf7c-49b8-837b-96b91859bd31",
   "metadata": {},
   "outputs": [],
   "source": [
    "#check the shape of the data\n",
    "df.shape"
   ]
  },
  {
   "cell_type": "code",
   "execution_count": null,
   "id": "d029ad40-c43f-4c84-afc6-232fb83e3df7",
   "metadata": {},
   "outputs": [],
   "source": [
    "df.dtypes"
   ]
  },
  {
   "cell_type": "markdown",
   "id": "8e41087a-36e1-4291-bf2f-5a9cb2d21719",
   "metadata": {},
   "source": [
    "# How many categorical and continuous data\n",
    "##Categorical Columns: season, weathersit, yr (0-2018, 1-2019), weekday (0-6, Sunday-Saturday), mnth\n",
    "##Continuous Columns: instant, casual, temp, windspeed, atemp, hum, registered"
   ]
  },
  {
   "cell_type": "markdown",
   "id": "39437ff7-551c-4378-817b-11cbda7b8b33",
   "metadata": {},
   "source": [
    "# Cleaning the data "
   ]
  },
  {
   "cell_type": "code",
   "execution_count": 114,
   "id": "abcdf989-8563-4d5b-939c-d8a2dda44614",
   "metadata": {},
   "outputs": [],
   "source": [
    "#change the non readable type of data :\n",
    "df['dteday'] = pd.to_datetime(df['dteday'])"
   ]
  },
  {
   "cell_type": "code",
   "execution_count": null,
   "id": "54d75702-386a-47ee-83f5-0bbf1b0d2f98",
   "metadata": {},
   "outputs": [],
   "source": [
    "df.head()"
   ]
  },
  {
   "cell_type": "code",
   "execution_count": null,
   "id": "cdeaa3fa-af32-47d6-af32-9ee50cc22e59",
   "metadata": {},
   "outputs": [],
   "source": [
    "#Drop uncessary columns :\n",
    "col = ['instant', 'dteday', 'casual', 'registered']\n",
    "#Removing time based data and redundant data\n",
    "df.drop(col, axis = 1, inplace=True)\n",
    "df.head()"
   ]
  },
  {
   "cell_type": "code",
   "execution_count": null,
   "id": "1720d3dc-ff48-40c4-97ee-494dce1586e9",
   "metadata": {},
   "outputs": [],
   "source": [
    "#check the correlation of the data :\n",
    "import seaborn as sb\n",
    "corr = df.corr()\n",
    "sb.heatmap(corr, cmap=\"Blues\", annot=True)"
   ]
  },
  {
   "cell_type": "code",
   "execution_count": null,
   "id": "b1ed7af4-24b1-4547-8173-4cd1aff8b8f5",
   "metadata": {},
   "outputs": [],
   "source": [
    "df.corr(numeric_only=True)"
   ]
  },
  {
   "cell_type": "markdown",
   "id": "bae1cb2f-0a97-48a2-b1a7-925fa05ed395",
   "metadata": {},
   "source": []
  },
  {
   "cell_type": "markdown",
   "id": "4b970966-3645-49a2-8de3-b1a766bb82d0",
   "metadata": {},
   "source": []
  },
  {
   "cell_type": "code",
   "execution_count": 119,
   "id": "77d2b11f-0b75-4bdb-8d83-0a7e3964e4d5",
   "metadata": {},
   "outputs": [],
   "source": [
    "X = df.drop(labels=['cnt'],axis=1)\n",
    "Y = df[['cnt']]"
   ]
  },
  {
   "cell_type": "code",
   "execution_count": null,
   "id": "fd60ae21-8ee0-4e8a-b161-ef5dc4a6addb",
   "metadata": {},
   "outputs": [],
   "source": [
    "# split a dataset into train and test sets\n",
    "from sklearn.datasets import make_blobs\n",
    "from sklearn.model_selection import train_test_split\n",
    "# split into train test sets\n",
    "X_train, X_test, y_train, y_test = train_test_split(X, Y, test_size=0.33)\n",
    "print(X_train.shape, X_test.shape, y_train.shape, y_test.shape)"
   ]
  },
  {
   "cell_type": "code",
   "execution_count": null,
   "id": "fade2672-f79b-4ce6-9d49-4256032e918f",
   "metadata": {},
   "outputs": [],
   "source": [
    "from sklearn.ensemble import RandomForestRegressor\n",
    "for i in (10, 20, 30, 40, 100, 150,300):\n",
    "    model = RandomForestRegressor(n_estimators= i,n_jobs= -1, random_state = 15)\n",
    "    model.fit(X_train,y_train)\n",
    "\n",
    "    relation = model.score(X_train, y_train)\n",
    "    print('relation : ', relation_square)\n",
    "    plt.figure(figsize=(20,10))\n",
    "    y_p = model.predict(X_train)\n",
    "    ax1 = sns.kdeplot(y_train,label = 'y_train',color=\"red\")\n",
    "    ax2 = sns.kdeplot(y_p,label = 'y_pred',color=\"blue\")\n",
    "    \n",
    "    plt.title(i)\n",
    "    plt.legend()\n",
    "    plt.show()"
   ]
  },
  {
   "cell_type": "code",
   "execution_count": null,
   "id": "5bb28ca0-c48b-4f84-9d0e-f3bf9c264904",
   "metadata": {},
   "outputs": [],
   "source": [
    "model = RandomForestRegressor(n_estimators=300, n_jobs = -1 , random_state = 0)\n",
    "model.fit(X_train, y_train)\n",
    "\n",
    "predictions = model.predict(X_test)"
   ]
  },
  {
   "cell_type": "code",
   "execution_count": null,
   "id": "8ab05476-8c41-4bff-8d3d-e50dcb443039",
   "metadata": {},
   "outputs": [],
   "source": [
    "predictions"
   ]
  },
  {
   "cell_type": "code",
   "execution_count": null,
   "id": "ba6cdc2c-c548-467d-9e1b-27823499132b",
   "metadata": {},
   "outputs": [],
   "source": [
    "import numpy as np\n",
    "from sklearn.metrics import mean_squared_error\n",
    "\n",
    "\n",
    "\n",
    "# Calculate RMSE\n",
    "rmse = np.sqrt(mean_squared_error(y_test, predictions))\n",
    "\n",
    "# Print the RMSE score\n",
    "print(rmse)"
   ]
  },
  {
   "cell_type": "code",
   "execution_count": 125,
   "id": "07f63dd7-757f-4f5d-bbf2-72163bdbc47f",
   "metadata": {},
   "outputs": [],
   "source": [
    "\n",
    "r2_square = r2_score(y_test, predictions)"
   ]
  },
  {
   "cell_type": "code",
   "execution_count": null,
   "id": "b4cf6d14-f881-47aa-9604-fdacbf082aca",
   "metadata": {},
   "outputs": [],
   "source": [
    "r2_square"
   ]
  },
  {
   "cell_type": "code",
   "execution_count": 127,
   "id": "5415d8fc-5d14-42b8-a16e-cd64675e4b9d",
   "metadata": {},
   "outputs": [],
   "source": [
    "# Save the trained model to a .pkl file\n",
    "import pickle\n",
    "with open('regression_model.pkl', 'wb') as file:\n",
    "    pickle.dump(model, file)"
   ]
  },
  {
   "cell_type": "code",
   "execution_count": null,
   "id": "aeafffd4-7954-4666-b12c-d76a9689648c",
   "metadata": {},
   "outputs": [],
   "source": []
  }
 ],
 "metadata": {
  "kernelspec": {
   "display_name": "Python 3 (ipykernel)",
   "language": "python",
   "name": "python3"
  },
  "language_info": {
   "codemirror_mode": {
    "name": "ipython",
    "version": 3
   },
   "file_extension": ".py",
   "mimetype": "text/x-python",
   "name": "python",
   "nbconvert_exporter": "python",
   "pygments_lexer": "ipython3",
   "version": "3.11.7"
  }
 },
 "nbformat": 4,
 "nbformat_minor": 5
}
